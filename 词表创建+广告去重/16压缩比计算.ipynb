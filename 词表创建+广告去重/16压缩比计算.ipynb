{
 "cells": [
  {
   "cell_type": "markdown",
   "id": "3a12cd49-ee1a-428f-9473-e05d03150487",
   "metadata": {},
   "source": [
    "# 计算一个词表的压缩比"
   ]
  },
  {
   "cell_type": "code",
   "execution_count": 2,
   "id": "345eb481-103f-4d3b-919e-cbe2a2b5bc9c",
   "metadata": {},
   "outputs": [
    {
     "name": "stdout",
     "output_type": "stream",
     "text": [
      "字节压缩比: 5.460080283794107\n",
      "字压缩比: 1.946371435217346\n",
      "CPU times: user 431 ms, sys: 5.78 ms, total: 437 ms\n",
      "Wall time: 437 ms\n"
     ]
    }
   ],
   "source": [
    "%%time\n",
    "#加载词表，只使用词频特征\n",
    "byte_len = 0\n",
    "word_len = 0\n",
    "token_len = 0\n",
    "with open('vocabs/vocab_338723.txt','r',encoding='utf-8') as f:\n",
    "    for word in f:\n",
    "        if word[0]!='\\t':\n",
    "            k,v = word.split('\\t')\n",
    "            v = int(v[:-1])\n",
    "            token_len += v\n",
    "            word_len += v*len(k)\n",
    "            byte_len += v*len(k.encode())\n",
    "print(\"字节压缩比:\",byte_len/token_len)\n",
    "print(\"字压缩比:\",word_len/token_len)"
   ]
  }
 ],
 "metadata": {
  "kernelspec": {
   "display_name": "Python 3 (ipykernel)",
   "language": "python",
   "name": "python3"
  },
  "language_info": {
   "codemirror_mode": {
    "name": "ipython",
    "version": 3
   },
   "file_extension": ".py",
   "mimetype": "text/x-python",
   "name": "python",
   "nbconvert_exporter": "python",
   "pygments_lexer": "ipython3",
   "version": "3.12.7"
  }
 },
 "nbformat": 4,
 "nbformat_minor": 5
}
