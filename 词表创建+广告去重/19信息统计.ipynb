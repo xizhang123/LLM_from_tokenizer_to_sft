{
 "cells": [
  {
   "cell_type": "code",
   "execution_count": 1,
   "id": "0c0d3423-8dfa-45a3-b3c6-5a510aa36341",
   "metadata": {},
   "outputs": [
    {
     "name": "stdout",
     "output_type": "stream",
     "text": [
      "数据总量12\n"
     ]
    }
   ],
   "source": [
    "cnt = 0\n",
    "with open(\"high_data.txt\",'r') as f:\n",
    "    for line in f:\n",
    "        cnt += 1\n",
    "print(f\"数据总量{cnt//(1024*1024)}\")"
   ]
  }
 ],
 "metadata": {
  "kernelspec": {
   "display_name": "Python 3 (ipykernel)",
   "language": "python",
   "name": "python3"
  },
  "language_info": {
   "codemirror_mode": {
    "name": "ipython",
    "version": 3
   },
   "file_extension": ".py",
   "mimetype": "text/x-python",
   "name": "python",
   "nbconvert_exporter": "python",
   "pygments_lexer": "ipython3",
   "version": "3.12.7"
  }
 },
 "nbformat": 4,
 "nbformat_minor": 5
}
