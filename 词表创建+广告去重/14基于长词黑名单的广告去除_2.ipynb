{
 "cells": [
  {
   "cell_type": "markdown",
   "id": "3a12cd49-ee1a-428f-9473-e05d03150487",
   "metadata": {},
   "source": [
    "# 基于长词黑名单去除高频广告"
   ]
  },
  {
   "cell_type": "code",
   "execution_count": 1,
   "id": "16be629d-b9ed-4759-9c6f-588404463730",
   "metadata": {},
   "outputs": [],
   "source": [
    "import numpy as np"
   ]
  },
  {
   "cell_type": "code",
   "execution_count": 2,
   "id": "2b98394e-1c47-457a-935f-b92661347139",
   "metadata": {},
   "outputs": [],
   "source": [
    "#相邻3个长词，视为异常\n",
    "thr = 3\n",
    "black_list = set()\n",
    "for word_len in range(5,8):\n",
    "    history_words = [\"\"] * (thr - 1)\n",
    "    history_value = [0] * (thr - 1)\n",
    "    cnt = 0\n",
    "    with open('vocabs/vocab_941993.txt') as f:\n",
    "        for pair in f:\n",
    "            if pair[0] != '\\t' and len(pair.split('\\t')[0])==word_len:\n",
    "                word,value = pair.split('\\t')\n",
    "                if not \"\" in history_words and history_value[0]<10000 and len(set(history_value)) == 1:\n",
    "                    black_list |= set(history_words)\n",
    "                history_words[cnt]=word\n",
    "                history_value[cnt]=int(value)//10\n",
    "            else:\n",
    "                history_words[cnt] = \"\"\n",
    "            cnt = (cnt + 1) % (thr - 1)"
   ]
  },
  {
   "cell_type": "code",
   "execution_count": 3,
   "id": "7b44b7e0-e08a-4a12-9227-0cc0f21c37c2",
   "metadata": {},
   "outputs": [
    {
     "data": {
      "text/plain": [
       "724"
      ]
     },
     "execution_count": 3,
     "metadata": {},
     "output_type": "execute_result"
    }
   ],
   "source": [
    "len(black_list)"
   ]
  },
  {
   "cell_type": "code",
   "execution_count": 4,
   "id": "3ae406bd-2238-4303-8144-3f177a3e6f0b",
   "metadata": {},
   "outputs": [
    {
     "data": {
      "text/plain": [
       "array(['使用两个周', '化为发展目标的', '药名词术语成果', '经常做水果面贴', '纳四方医学精英', '道工艺炼制成霜',\n",
       "       '拉紧致眼部轮廓', '等面目神经疾病', '疗程时间比较长', '乳腺脂肪坏死等', '药店基本都有售', '默认的收益分配',\n",
       "       '双重认证的专业', '监督管理核设施', '迅速提升精力体', '死亡的主要形式', '大笑或者大喊时', '自然科学事业费',\n",
       "       '精索静脉曲张吗', '各种毒素和垃圾', '我们在收到短信', '十大惨不忍睹的', '吃过其他减肥药', '代谢减缓等问题',\n",
       "       '绿色生态祛疤', '塑形以及美胸三', '理事会的职权是', '链接受损皮肤层', '偷情中的傻女', '目前市面上的去',\n",
       "       '欧雅泊思官网上', '监督管理核设施', '与肌肤完全相容', '可能引发尿失禁', '在核准的业务范', '乳房的症状同步',\n",
       "       '面部医疗费用的', '舒适的住院病区', '够快速分解皮肤', '由理事会或常务', '指由于乳房组织', '行政诉讼的应诉',\n",
       "       '有什么技术革新', '这些患者普遍', '铺设了地毯的地', '处理方法是', '渗透因子的包裹', '调查情况及结果',\n",
       "       '找一个不可', '经常做水果面贴', '姓节省医疗开支', '何找到更多有关', '凸起的青筋消失', '乾正康面瘫静电',\n",
       "       '以复发率非常高', '建议按周期使用', '而且还能保证患', '的吸金能力', '体温下自行变软', '东西就发生射'],\n",
       "      dtype='<U7')"
      ]
     },
     "execution_count": 4,
     "metadata": {},
     "output_type": "execute_result"
    }
   ],
   "source": [
    "#随机查看广告词\n",
    "np.array(list(black_list))[np.random.randint(0,len(black_list),60)]"
   ]
  },
  {
   "cell_type": "code",
   "execution_count": 5,
   "id": "c7ec19b4-0818-4368-a473-44c3943b5604",
   "metadata": {},
   "outputs": [],
   "source": [
    "import ahocorasick as ah\n",
    "aca= ah.Automaton()\n",
    "for word in black_list:\n",
    "    #构造自动机时对词频进行过滤\n",
    "    aca.add_word(word.encode(),None)\n",
    "aca.make_automaton()"
   ]
  },
  {
   "cell_type": "code",
   "execution_count": 6,
   "id": "5003c23b-5f84-463c-92c7-f11663b24294",
   "metadata": {},
   "outputs": [],
   "source": [
    "def isad(text):\n",
    "    cnt = 0\n",
    "    for end_index,_ in aca.iter(text.encode()):\n",
    "        cnt += 1\n",
    "        if cnt >= 3:\n",
    "            return True\n",
    "    return False"
   ]
  },
  {
   "cell_type": "code",
   "execution_count": 7,
   "id": "be82cf31-32ec-4d55-bb67-a8031592a741",
   "metadata": {},
   "outputs": [],
   "source": [
    "with open('high_ff_final_random.txt','r') as f_in:\n",
    "    with open('high_ff_final2_random.txt','w') as f_out:\n",
    "        for line in f_in:\n",
    "            if not isad(line):\n",
    "                print(line,end=\"\",file=f_out)"
   ]
  }
 ],
 "metadata": {
  "kernelspec": {
   "display_name": "Python 3 (ipykernel)",
   "language": "python",
   "name": "python3"
  },
  "language_info": {
   "codemirror_mode": {
    "name": "ipython",
    "version": 3
   },
   "file_extension": ".py",
   "mimetype": "text/x-python",
   "name": "python",
   "nbconvert_exporter": "python",
   "pygments_lexer": "ipython3",
   "version": "3.12.7"
  }
 },
 "nbformat": 4,
 "nbformat_minor": 5
}
