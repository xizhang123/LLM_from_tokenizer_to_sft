{
 "cells": [
  {
   "cell_type": "markdown",
   "id": "3a12cd49-ee1a-428f-9473-e05d03150487",
   "metadata": {},
   "source": [
    "# 基于长词黑名单去除高频广告"
   ]
  },
  {
   "cell_type": "code",
   "execution_count": 1,
   "id": "16be629d-b9ed-4759-9c6f-588404463730",
   "metadata": {},
   "outputs": [],
   "source": [
    "import numpy as np"
   ]
  },
  {
   "cell_type": "code",
   "execution_count": 2,
   "id": "2b98394e-1c47-457a-935f-b92661347139",
   "metadata": {},
   "outputs": [],
   "source": [
    "#相邻4个长词，视为异常\n",
    "thr = 4\n",
    "history_words = [\"\"] * (thr - 1)\n",
    "black_list = set()\n",
    "cnt = 0\n",
    "with open('vocabs/vocab_5690450.txt') as f:\n",
    "    for pair in f:\n",
    "        if pair[0] != '\\t' and len(pair.split('\\t')[0])==7:\n",
    "            word = pair.split('\\t')[0]\n",
    "            if not \"\" in history_words:\n",
    "                black_list |= set(history_words)\n",
    "            history_words[cnt]=word\n",
    "        else:\n",
    "            history_words[cnt] = \"\"\n",
    "        cnt = (cnt + 1) % (thr - 1)"
   ]
  },
  {
   "cell_type": "code",
   "execution_count": 3,
   "id": "7b44b7e0-e08a-4a12-9227-0cc0f21c37c2",
   "metadata": {},
   "outputs": [
    {
     "data": {
      "text/plain": [
       "56039"
      ]
     },
     "execution_count": 3,
     "metadata": {},
     "output_type": "execute_result"
    }
   ],
   "source": [
    "len(black_list)"
   ]
  },
  {
   "cell_type": "code",
   "execution_count": 4,
   "id": "3ae406bd-2238-4303-8144-3f177a3e6f0b",
   "metadata": {},
   "outputs": [
    {
     "data": {
      "text/plain": [
       "array(['的申请人和办理', '资金管理第二节', '掉色就是假货了', '苗穴位介入疗法', '血通络康复疗法', '计划及政策措施',\n",
       "       '八年的时间岁月', '该群员踢出群聊', '官形成与原发癌', '同时全球市场在', '炎研究治疗中心', '料是多种多样的',\n",
       "       '宁夏银川专业染', '酒店位于基督城', '希望可以有人组', '和查处冒充专利', '影响女性工作和', '策实施医疗减免',\n",
       "       '各教学指导委员', '一个一个试用着', '及选股涨停技术', '然的传统中药材', '我又和客服说了', '荐的自然之谜海',\n",
       "       '秋水多年来辛勤', '解他们的症状呢', '表面有黑色粉末', '我来到青岛癫痫', '量增加时可促使', '亚公寓酒店享受'],\n",
       "      dtype='<U7')"
      ]
     },
     "execution_count": 4,
     "metadata": {},
     "output_type": "execute_result"
    }
   ],
   "source": [
    "#随机查看广告词\n",
    "np.array(list(black_list))[np.random.randint(0,len(black_list),30)]"
   ]
  },
  {
   "cell_type": "code",
   "execution_count": 5,
   "id": "c7ec19b4-0818-4368-a473-44c3943b5604",
   "metadata": {},
   "outputs": [],
   "source": [
    "import ahocorasick as ah\n",
    "aca= ah.Automaton()\n",
    "for word in black_list:\n",
    "    #构造自动机时对词频进行过滤\n",
    "    aca.add_word(word.encode(),None)\n",
    "aca.make_automaton()"
   ]
  },
  {
   "cell_type": "code",
   "execution_count": 6,
   "id": "5003c23b-5f84-463c-92c7-f11663b24294",
   "metadata": {},
   "outputs": [],
   "source": [
    "def isad(text):\n",
    "    cnt = 0\n",
    "    for end_index,_ in aca.iter(text.encode()):\n",
    "        cnt += 1\n",
    "        if cnt >= 3:\n",
    "            return True\n",
    "    return False"
   ]
  },
  {
   "cell_type": "code",
   "execution_count": 7,
   "id": "c7978e44-fa3d-4e76-b783-6677988e4549",
   "metadata": {},
   "outputs": [
    {
     "data": {
      "text/plain": [
       "True"
      ]
     },
     "execution_count": 7,
     "metadata": {},
     "output_type": "execute_result"
    }
   ],
   "source": [
    "isad(\"和预先付费政策   甲诊疗领域始终   室内外保温工程\")"
   ]
  },
  {
   "cell_type": "code",
   "execution_count": 8,
   "id": "f3ae7bd1-6920-4d7f-9e16-68f61defde42",
   "metadata": {},
   "outputs": [
    {
     "data": {
      "text/plain": [
       "False"
      ]
     },
     "execution_count": 8,
     "metadata": {},
     "output_type": "execute_result"
    }
   ],
   "source": [
    "isad(\"今天天气真好\")"
   ]
  },
  {
   "cell_type": "code",
   "execution_count": 9,
   "id": "be82cf31-32ec-4d55-bb67-a8031592a741",
   "metadata": {},
   "outputs": [],
   "source": [
    "with open('high_ff_unique.txt','r') as f_in:\n",
    "    with open('high_ff_final.txt','w') as f_out:\n",
    "        for line in f_in:\n",
    "            if not isad(line):\n",
    "                print(line,end=\"\",file=f_out)"
   ]
  }
 ],
 "metadata": {
  "kernelspec": {
   "display_name": "Python 3 (ipykernel)",
   "language": "python",
   "name": "python3"
  },
  "language_info": {
   "codemirror_mode": {
    "name": "ipython",
    "version": 3
   },
   "file_extension": ".py",
   "mimetype": "text/x-python",
   "name": "python",
   "nbconvert_exporter": "python",
   "pygments_lexer": "ipython3",
   "version": "3.12.7"
  }
 },
 "nbformat": 4,
 "nbformat_minor": 5
}
