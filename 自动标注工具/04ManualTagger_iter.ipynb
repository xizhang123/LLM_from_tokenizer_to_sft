{
 "cells": [
  {
   "cell_type": "markdown",
   "id": "c0754b22-e366-41cd-a9ce-5496012e9399",
   "metadata": {},
   "source": [
    "# 人工校正去噪数据"
   ]
  },
  {
   "cell_type": "code",
   "execution_count": 1,
   "id": "a143a865-e6ab-48b3-8fb2-6bbb472e6a75",
   "metadata": {},
   "outputs": [],
   "source": [
    "import os, sys, json, random\n",
    "from PyQt6.QtWidgets import QApplication, QWidget, QVBoxLayout, QHBoxLayout, QPushButton, QTextEdit"
   ]
  },
  {
   "cell_type": "code",
   "execution_count": 2,
   "id": "d013f2a6-cbae-4173-baa2-45fac79925bc",
   "metadata": {},
   "outputs": [],
   "source": [
    "with open('high_iter.txt','r',encoding='utf-8') as f:\n",
    "    data = [line[:-1] for line in f]\n",
    "def get_rand_text():\n",
    "    global data\n",
    "    if len(data) > 0:\n",
    "        ret = data[:10]\n",
    "        data = data[10:]\n",
    "        return ret\n",
    "    else:\n",
    "        return [\"文本标注完成\"]*2"
   ]
  },
  {
   "cell_type": "code",
   "execution_count": 3,
   "id": "f3b07ecb-db5f-4d5c-9499-661b276639a4",
   "metadata": {},
   "outputs": [],
   "source": [
    "class TextLabelingWindow(QWidget):\n",
    "    def __init__(self,file_high,file_mid,file_low):\n",
    "        super().__init__()\n",
    "        global rand_text_list\n",
    "        # 设置窗口标题和大小\n",
    "        self.setWindowTitle('人工文本标注')\n",
    "        self.setFixedSize(800, 850)\n",
    "\n",
    "        # 创建布局\n",
    "        layout = QVBoxLayout()\n",
    "\n",
    "        # 创建标签并设置显示文本\n",
    "        self.text_edit = QTextEdit()\n",
    "        self.text_edit.setText(rand_text_list[-1])  # 模拟长文本\n",
    "        rand_text_list = rand_text_list[:-1]\n",
    "        self.text_edit.setReadOnly(True)  # 设置为只读，防止用户修改文本\n",
    "        layout.addWidget(self.text_edit)\n",
    "\n",
    "        # 创建按钮布局（横向）\n",
    "        button_layout = QHBoxLayout()\n",
    "\n",
    "        # 创建按钮\n",
    "        self.high_button = QPushButton('高')\n",
    "        self.mid_button = QPushButton('中')\n",
    "        self.low_button = QPushButton('低')\n",
    "\n",
    "        # 连接按钮点击事件\n",
    "        self.high_button.clicked.connect(self.mark_high)\n",
    "        self.mid_button.clicked.connect(self.mark_mid)\n",
    "        self.low_button.clicked.connect(self.mark_low)\n",
    "\n",
    "        # 将按钮添加到横向布局\n",
    "        button_layout.addWidget(self.high_button)\n",
    "        button_layout.addWidget(self.mid_button)\n",
    "        button_layout.addWidget(self.low_button)\n",
    "\n",
    "        # 将横向布局添加到主布局\n",
    "        layout.addLayout(button_layout)\n",
    "\n",
    "        # 设置窗口的布局\n",
    "        self.setLayout(layout)\n",
    "\n",
    "    def mark_high(self):\n",
    "        global rand_text_list\n",
    "        print(self.text_edit.toPlainText(),file=file_high)\n",
    "        self.text_edit.setText(rand_text_list[-1])\n",
    "        rand_text_list = rand_text_list[:-1]\n",
    "        if len(rand_text_list) == 0:\n",
    "            rand_text_list = get_rand_text()\n",
    "\n",
    "    def mark_mid(self):\n",
    "        global rand_text_list\n",
    "        print(self.text_edit.toPlainText(),file=file_mid)\n",
    "        self.text_edit.setText(rand_text_list[-1])\n",
    "        rand_text_list = rand_text_list[:-1]\n",
    "        if len(rand_text_list) == 0:\n",
    "            rand_text_list = get_rand_text()\n",
    "\n",
    "    def mark_low(self):\n",
    "        global rand_text_list\n",
    "        print(self.text_edit.toPlainText(),file=file_low)\n",
    "        self.text_edit.setText(rand_text_list[-1])\n",
    "        rand_text_list = rand_text_list[:-1]\n",
    "        if len(rand_text_list) == 0:\n",
    "            rand_text_list = get_rand_text()"
   ]
  },
  {
   "cell_type": "code",
   "execution_count": 4,
   "id": "0f5cd41f-d4f7-4c28-81fe-19325b2be4a3",
   "metadata": {},
   "outputs": [
    {
     "name": "stdout",
     "output_type": "stream",
     "text": [
      "Success!\n"
     ]
    }
   ],
   "source": [
    "app = QApplication(sys.argv)\n",
    "file_high = open('high.txt','a')\n",
    "file_mid = open('mid.txt','a')\n",
    "file_low = open('low.txt','a')\n",
    "rand_text_list = get_rand_text()\n",
    "window = TextLabelingWindow(file_high,file_mid,file_low)\n",
    "window.show()\n",
    "if app.exec() == 0:\n",
    "    file_high.close()\n",
    "    file_mid.close()\n",
    "    file_low.close()\n",
    "    print(\"Success!\")"
   ]
  },
  {
   "cell_type": "code",
   "execution_count": 5,
   "id": "17516f10-ed02-4c97-90a4-105d362eb196",
   "metadata": {},
   "outputs": [],
   "source": [
    "with open('high_iter.txt','w',encoding='utf-8') as f:\n",
    "    for line in data:\n",
    "        print(line,file=f)"
   ]
  }
 ],
 "metadata": {
  "kernelspec": {
   "display_name": "Python 3 (ipykernel)",
   "language": "python",
   "name": "python3"
  },
  "language_info": {
   "codemirror_mode": {
    "name": "ipython",
    "version": 3
   },
   "file_extension": ".py",
   "mimetype": "text/x-python",
   "name": "python",
   "nbconvert_exporter": "python",
   "pygments_lexer": "ipython3",
   "version": "3.12.7"
  }
 },
 "nbformat": 4,
 "nbformat_minor": 5
}
