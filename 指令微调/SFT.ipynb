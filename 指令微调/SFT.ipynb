{
 "cells": [
  {
   "cell_type": "code",
   "execution_count": null,
   "id": "72971783-b55d-4f17-b71c-6527fda70882",
   "metadata": {},
   "outputs": [],
   "source": [
    "#!AHOCORASICK_BYTES=1 pip install git+https://github.com/WojciechMula/pyahocorasick.git"
   ]
  },
  {
   "cell_type": "code",
   "execution_count": null,
   "id": "37b2bb43-f605-4564-9b18-58f80420e4c4",
   "metadata": {},
   "outputs": [],
   "source": [
    "import time\n",
    "import json\n",
    "import torch\n",
    "import threading\n",
    "import numpy as np\n",
    "from tqdm import tqdm\n",
    "from collections import deque\n",
    "from make_model import make_model\n",
    "from matplotlib import pyplot as plt\n",
    "from tokenizer import tokenizer,token2str,vocab_size\n",
    "from train_and_use import SFTBatch,CrossEntropyLoss,SimpleMoOptimizer,OptimizerWrapper,train_server_start\n",
    "from train_and_use import text_continue\n",
    "from train_and_use import TOGGLE,STOP,SET_CACULATE_SIZE\n",
    "from train_and_use import record\n",
    "device = torch.device(\"cuda\" if torch.cuda.is_available() else \"cpu\")\n",
    "# device = torch.device(\"cpu\")\n",
    "%matplotlib inline"
   ]
  },
  {
   "cell_type": "code",
   "execution_count": null,
   "id": "f12e9f5e-b11b-4882-85c2-fd55b717ea44",
   "metadata": {},
   "outputs": [],
   "source": [
    "#数据格式检查\n",
    "a_skip_len = len(tokenizer(f\"<|im_start|>assistant \",5.0))\n",
    "def get_batch(chatml_json_item):\n",
    "    inputs = []\n",
    "    labels = []\n",
    "    for item in chatml_json_item['conversations']:\n",
    "        if item['role'] == 'user':\n",
    "            u_tokens = tokenizer(f\"<|im_start|>{item['role']} {item['content']}<|im_end|>\")\n",
    "            inputs += u_tokens\n",
    "            labels += [-255]*len(u_tokens)\n",
    "        else:\n",
    "            a_tokens = tokenizer(f\"<|im_start|>{item['role']} {item['content']}<|im_end|>\")\n",
    "            inputs += a_tokens\n",
    "            labels += [-255]*a_skip_len + a_tokens[a_skip_len:]\n",
    "    return inputs[:-1],labels[1:]"
   ]
  },
  {
   "cell_type": "code",
   "execution_count": null,
   "id": "4afd30a3-f52b-41b5-9e1c-bd1a6839799d",
   "metadata": {},
   "outputs": [],
   "source": [
    "model = make_model(\n",
    "    #token是从1开始的，0填充，剩下的用来覆盖全部字节\n",
    "    vocab_size = vocab_size+1+255,\n",
    "    embedding_dim = 768,\n",
    "    key_dim = 128,\n",
    "    head_number = 12,\n",
    "    position_information_type = \"mask\",\n",
    "    enable_affine = True,\n",
    "    enable_talking_head = True,\n",
    "    use_diff = False,\n",
    "    self_attention_block_size = 0,\n",
    "    feed_forward_dim = 1536,\n",
    "    enable_layer_norm = True,\n",
    "    deep = 12,\n",
    "    dropout_rate = 0.1\n",
    ").to(device)\n",
    "parameters_n = 0\n",
    "for p in model.parameters():\n",
    "    parameters_n += p.data.cpu().numpy().size\n",
    "print(\"模型参数量:\"+str(parameters_n/1e9)[:4]+\"(B)\")"
   ]
  },
  {
   "cell_type": "code",
   "execution_count": null,
   "id": "b35bbfd3-7be1-47df-845e-a78a57fb9baf",
   "metadata": {},
   "outputs": [],
   "source": [
    "#改完参数需要检查，否则优化器可能匹配错\n",
    "def get_info(p_cnt,p):\n",
    "    if p_cnt==0 or p.dim()==1:\n",
    "        ret = 'vector'\n",
    "    elif (p_cnt-1)%25 in [2,3,4] and p_cnt < 25*12:\n",
    "        ret = 12,128,768\n",
    "    elif p.dim()==2:\n",
    "        ret = 'matrix'\n",
    "    return ret\n",
    "# #检查对应关系是否正确\n",
    "# for i,p in enumerate(model.parameters()):\n",
    "#     print(i,p.size(),get_info(i,p))"
   ]
  },
  {
   "cell_type": "code",
   "execution_count": null,
   "id": "9ac70e41-6699-4cfb-aae1-17f628204469",
   "metadata": {},
   "outputs": [],
   "source": [
    "batch_size_adjust = 0\n",
    "seq_len = 512\n",
    "total_lines = 4752539\n",
    "skip = 0\n",
    "cnt = 0\n",
    "buffer = deque()\n",
    "#源源不断的产生分好词的数据\n",
    "def auto_tokenizer():\n",
    "    global buffer\n",
    "    global cnt\n",
    "    #从文件中流式获取数据\n",
    "    with open(\"ChatML_zh_large.jsonl\",'r') as f:\n",
    "        for line in f:\n",
    "            chatml_json_item = json.loads(line)\n",
    "            #跳过历史数据\n",
    "            if cnt < skip:\n",
    "                cnt += 1\n",
    "                continue\n",
    "            #获取新数据\n",
    "            inputs,labels = get_batch(chatml_json_item)\n",
    "            #对数据进行过滤\n",
    "            if len(inputs) > 192 and len(inputs) < 512:\n",
    "                #进行样本填充\n",
    "                inputs += [-255]*(seq_len-len(inputs))\n",
    "                labels += [-255]*(seq_len-len(labels))\n",
    "                buffer.append([inputs,labels])\n",
    "                cnt += 1\n",
    "                #获取数据的数据更快，数据充足时休眠，节约内存\n",
    "                while len(buffer) > 1024:\n",
    "                    time.sleep(1)\n",
    "\n",
    "process_str = \"\"\n",
    "#将分好词的数据自合成训练的批次\n",
    "def data_generator(batch_size):\n",
    "    global buffer\n",
    "    global batch_size_adjust\n",
    "    global process_str\n",
    "    thread = threading.Thread(target=auto_tokenizer)\n",
    "    thread.start()\n",
    "    while len(buffer) == 0:\n",
    "        time.sleep(1)\n",
    "    stop = batch_size+batch_size_adjust\n",
    "    data = []\n",
    "    while len(buffer):\n",
    "        data += [buffer.popleft()]\n",
    "        # 累积到了批次输出样本\n",
    "        if len(data)==stop:#一个批次产出一次\n",
    "            # 随时更新批次调整\n",
    "            stop = batch_size+batch_size_adjust\n",
    "            trunk = np.array(data)+255\n",
    "            inputs = torch.from_numpy(trunk[:,0]).to(device).data\n",
    "            labels = torch.from_numpy(trunk[:,1]).to(device).data\n",
    "            data = []\n",
    "            process_str = '{:.4f}'.format(cnt*100/total_lines)+'%'\n",
    "            yield SFTBatch(inputs,labels)"
   ]
  },
  {
   "cell_type": "code",
   "execution_count": null,
   "id": "325fb2ab-5209-49e8-9e57-af801158114b",
   "metadata": {},
   "outputs": [],
   "source": [
    "model.load_state_dict(torch.load('large_model_13033051.weight',weights_only=True))\n",
    "model.train()\n",
    "loss_f = CrossEntropyLoss()\n",
    "optimizer = OptimizerWrapper(\n",
    "    optimizer = SimpleMoOptimizer(model.parameters(),betas = (0.9,0.98),eps = 1e-7,weight_decay=0.1,get_info=get_info),\n",
    "    warm_up = 1024,\n",
    "    lr = 1e-5,\n",
    "    enable_wave = False\n",
    ")\n",
    "batch_size = 128\n",
    "caculate_size = 8\n",
    "train_server_start(model,(data_generator,batch_size),caculate_size,loss_f,optimizer,use_amp = False)"
   ]
  },
  {
   "cell_type": "code",
   "execution_count": null,
   "id": "2e20ac10-c1b6-491d-b031-9d465c8426f0",
   "metadata": {},
   "outputs": [],
   "source": [
    "TOGGLE()\n",
    "# STOP()"
   ]
  },
  {
   "cell_type": "code",
   "execution_count": null,
   "id": "4c03cebe-de3e-4941-9f46-9e11bc50bea4",
   "metadata": {},
   "outputs": [],
   "source": [
    "print(process_str)"
   ]
  },
  {
   "cell_type": "code",
   "execution_count": null,
   "id": "5fac9430-c1ca-4d3c-b29e-ace6f18b7433",
   "metadata": {},
   "outputs": [],
   "source": [
    "# optimizer.set_lrate(1e-5,128)\n",
    "# optimizer.enable_wave = False"
   ]
  },
  {
   "cell_type": "code",
   "execution_count": 1615,
   "id": "be011301-5e83-4b3a-b484-d75d0dbae396",
   "metadata": {},
   "outputs": [
    {
     "data": {
      "image/png": "[encoded data removed]",
      "text/plain": [
       "<Figure size 640x480 with 1 Axes>"
      ]
     },
     "metadata": {},
     "output_type": "display_data"
    }
   ],
   "source": [
    "plt.close()\n",
    "plt.scatter(list(range(len(record['loss_line']))),record['loss_line'],alpha=0.1,linewidths=0.1)\n",
    "# plt.yscale('log')\n",
    "# plt.plot(record['loss_line'])\n",
    "plt.show()"
   ]
  },
  {
   "cell_type": "code",
   "execution_count": 1616,
   "id": "6adf2ed6-0e1e-483b-abfa-50c7f9a6da03",
   "metadata": {},
   "outputs": [
    {
     "data": {
      "image/png": "[encoded data removed]",
      "text/plain": [
       "<Figure size 640x480 with 1 Axes>"
      ]
     },
     "metadata": {},
     "output_type": "display_data"
    }
   ],
   "source": [
    "plt.close()\n",
    "# plt.plot(record['loss_line'])\n",
    "plt.plot(record['lr_line'])\n",
    "plt.show()"
   ]
  },
  {
   "cell_type": "code",
   "execution_count": 1614,
   "id": "c857e82f-a0f8-4c3a-a5ac-1764c33fe044",
   "metadata": {},
   "outputs": [
    {
     "name": "stdout",
     "output_type": "stream",
     "text": [
      "<|im_start|>user 9999999999 + 2 = <|im_end|><|im_start|>assistant [9999999999,2]->10000000001->[10000000001]<|im_end|>[1000009999,\n",
      "CPU times: user 1.35 s, sys: 13.4 ms, total: 1.36 s\n",
      "Wall time: 1.36 s\n"
     ]
    }
   ],
   "source": [
    "%%time\n",
    "# tokens_batch = [tokenizer(\"<|im_start|>user 请介绍一下自己。<|im_end|><|im_start|>assistant \",5.0)]\n",
    "# tokens_batch = [tokenizer(\"<|im_start|>user 介绍一下大熊猫<|im_end|><|im_start|>assistant \",5.0)]\n",
    "tokens_batch = [tokenizer(f\"<|im_start|>user 9999999999 + 2 = <|im_end|><|im_start|>assistant \",5.0)]\n",
    "tokens_batch = np.array(tokens_batch,dtype=np.int64)+255\n",
    "inputs = torch.from_numpy(tokens_batch).to(device).data\n",
    "model = model.eval()\n",
    "with torch.no_grad():\n",
    "    o = text_continue(\n",
    "        model,inputs,out_length=64,\n",
    "        repeat_penalty_value = 0.0,\n",
    "        temperature = 0.01,\n",
    "        decay = 0.98\n",
    "    )\n",
    "print(token2str(o[0].cpu().numpy()-255))\n",
    "model = model.train()"
   ]
  },
  {
   "cell_type": "code",
   "execution_count": 1618,
   "id": "a405525f-f712-49e5-a384-9999e099dbf9",
   "metadata": {},
   "outputs": [
    {
     "name": "stdout",
     "output_type": "stream",
     "text": [
      "<|im_start|>user 介绍一下大熊猫<|im_end|><|im_start|>assistant 大熊猫是一种濒危物种，主要分布在中国四川、陕西、甘肃、青海、云南等省份。它们通常以竹子为食，以竹子为主要食物来源。大熊猫的体型较小，体重只有100-150公斤左右，身体呈黑白相间的条纹，毛色为黑白相间，眼睛为黑色，\n",
      "CPU times: user 1.33 s, sys: 9.78 ms, total: 1.34 s\n",
      "Wall time: 1.33 s\n"
     ]
    }
   ],
   "source": [
    "%%time\n",
    "# tokens_batch = [tokenizer(\"<|im_start|>user 请介绍一下自己。<|im_end|><|im_start|>assistant \",5.0)]\n",
    "tokens_batch = [tokenizer(\"<|im_start|>user 介绍一下大熊猫<|im_end|><|im_start|>assistant \",5.0)]\n",
    "# tokens_batch = [tokenizer(f\"<|im_start|>user 9999999999 + 2 = <|im_end|><|im_start|>assistant \",5.0)]\n",
    "tokens_batch = np.array(tokens_batch,dtype=np.int64)+255\n",
    "inputs = torch.from_numpy(tokens_batch).to(device).data\n",
    "model = model.eval()\n",
    "with torch.no_grad():\n",
    "    o = text_continue(\n",
    "        model,inputs,out_length=64,\n",
    "        repeat_penalty_value = 0.0,\n",
    "        temperature = 0.01,\n",
    "        decay = 0.98\n",
    "    )\n",
    "print(token2str(o[0].cpu().numpy()-255))\n",
    "model = model.train()"
   ]
  },
  {
   "cell_type": "code",
   "execution_count": 1617,
   "id": "8a23037c-67f9-48f9-ab59-50b9acf45353",
   "metadata": {},
   "outputs": [],
   "source": [
    "# torch.save(model.state_dict(),'large_model_instruct_09302213.weight')"
   ]
  },
  {
   "cell_type": "code",
   "execution_count": null,
   "id": "342393a2-93df-4947-86ab-8a5ea4bb82cc",
   "metadata": {},
   "outputs": [],
   "source": [
    "for i in range(6*1):\n",
    "    with open(\"self.jsonl\",'r') as f:\n",
    "        chatml_json_items = []\n",
    "        for line in f:\n",
    "            chatml_json_items += [json.loads(line)]\n",
    "        np.random.shuffle(chatml_json_items)\n",
    "        for chatml_json_item in chatml_json_items:\n",
    "            inputs,labels = get_batch(chatml_json_item)\n",
    "            inputs += [-255]*(seq_len-len(inputs))\n",
    "            labels += [-255]*(seq_len-len(labels))\n",
    "            buffer.append([inputs,labels])\n",
    "            time.sleep(60)\n",
    "            print(i)"
   ]
  },
  {
   "cell_type": "code",
   "execution_count": null,
   "id": "d0f6cb31-7268-4eaa-acc9-bb5df1256c20",
   "metadata": {},
   "outputs": [],
   "source": [
    "# def get_line_from_hd():\n",
    "#     while True:\n",
    "#         with open('high_data.txt','r') as f:\n",
    "#             for line in f:\n",
    "#                 if np.random.rand() < 0.01:\n",
    "#                     #去尾\n",
    "#                     tokens = tokenizer(line)[:-25][:seq_len+1]\n",
    "#                     if len(tokens) >= 300:\n",
    "#                         inputs = tokens[:-1]\n",
    "#                         #掐头\n",
    "#                         labels = [-255]*20 + tokens[21:]\n",
    "#                         #长度对齐\n",
    "#                         inputs += [-255]*(seq_len-len(inputs))\n",
    "#                         labels += [-255]*(seq_len-len(labels))\n",
    "#                         yield inputs,labels\n",
    "# norm_line = get_line_from_hd()"
   ]
  },
  {
   "cell_type": "code",
   "execution_count": null,
   "id": "62912141-c9ba-4822-a27b-675346a660d5",
   "metadata": {},
   "outputs": [],
   "source": [
    "# # 注入通用数据\n",
    "# enable_insert = True #控制通用数据的注入\n",
    "# insert_interval = 1/5\n",
    "# def hd_insert():\n",
    "#     global enable_insert\n",
    "#     global insert_interval\n",
    "#     while enable_insert:\n",
    "#         inputs,labels = next(norm_line)\n",
    "#         buffer.append([inputs,labels])\n",
    "#         time.sleep(insert_interval)\n",
    "# thread = threading.Thread(target=hd_insert)\n",
    "# thread.start()"
   ]
  },
  {
   "cell_type": "code",
   "execution_count": null,
   "id": "1c2433cf-5fd6-4838-ae4c-def9606fc5d6",
   "metadata": {},
   "outputs": [],
   "source": [
    "def get_math_data():\n",
    "    while True:\n",
    "        a = ''.join(np.random.choice(['0','1','2','3','4','5','6','7','8','9','9','9','9','9','9','9','9','9','9','9','9','9','9','9','9','9','9','9'],np.random.randint(1,72)))\n",
    "        b = ''.join(np.random.choice(['0','1','2','3','4','5','6','7','8','9','9','9','9','9','9','9','9','9','9','9','9','9','9','9','9','9','9','9'],np.random.randint(1,72)))\n",
    "        ra = a[::-1]\n",
    "        rb = b[::-1]\n",
    "        ans = str(int(a)+int(b))\n",
    "        rans = ans[::-1]\n",
    "        q = f\"{a}{' '*np.random.randint(5)}+{' '*np.random.randint(5)}{b}{' '*np.random.randint(5)}{'='*np.random.randint(2)}{' '*np.random.randint(4)}\"\n",
    "        a = f\"[{ra},{rb}]->{rans}->[{ans}]\"\n",
    "        inputs,labels = get_batch({\"conversations\": [{\"role\": \"user\", \"content\": f\"{q}\"}, {\"role\": \"assistant\", \"content\": f\"{a}\"}]})\n",
    "        inputs += [-255]*(seq_len-len(inputs))\n",
    "        labels += [-255]*(seq_len-len(labels))\n",
    "        buffer.append([inputs,labels])\n",
    "        yield inputs,labels\n",
    "math_line = get_math_data()"
   ]
  },
  {
   "cell_type": "code",
   "execution_count": null,
   "id": "456944a3-75dd-4b56-b8b2-ce171927d91b",
   "metadata": {},
   "outputs": [],
   "source": [
    "# # 注入通用数据\n",
    "# enable_math_insert = True #控制通用数据的注入\n",
    "# insert_math_interval = 1/10\n",
    "# def math_insert():\n",
    "#     global enable_math_insert\n",
    "#     global insert_math_interval\n",
    "#     while enable_math_insert:\n",
    "#         inputs,labels = next(math_line)\n",
    "#         buffer.append([inputs,labels])\n",
    "#         time.sleep(insert_math_interval)\n",
    "# thread = threading.Thread(target=math_insert)\n",
    "# thread.start()"
   ]
  },
  {
   "cell_type": "code",
   "execution_count": null,
   "id": "da3abf69-f2d0-4953-b5d8-b8f794830444",
   "metadata": {},
   "outputs": [],
   "source": [
    "insert_math_interval = 1/5\n",
    "insert_interval = 1/5\n",
    "batch_size_adjust = 0"
   ]
  },
  {
   "cell_type": "code",
   "execution_count": 1613,
   "id": "ba6b81f9-5326-4567-bd63-fec89801b07f",
   "metadata": {},
   "outputs": [
    {
     "data": {
      "text/plain": [
       "1915"
      ]
     },
     "execution_count": 1613,
     "metadata": {},
     "output_type": "execute_result"
    }
   ],
   "source": [
    "len(buffer)"
   ]
  }
 ],
 "metadata": {
  "kernelspec": {
   "display_name": "Python 3 (ipykernel)",
   "language": "python",
   "name": "python3"
  },
  "language_info": {
   "codemirror_mode": {
    "name": "ipython",
    "version": 3
   },
   "file_extension": ".py",
   "mimetype": "text/x-python",
   "name": "python",
   "nbconvert_exporter": "python",
   "pygments_lexer": "ipython3",
   "version": "3.11.7"
  }
 },
 "nbformat": 4,
 "nbformat_minor": 5
}
