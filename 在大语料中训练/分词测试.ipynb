{
 "cells": [
  {
   "cell_type": "code",
   "execution_count": 1,
   "id": "a47d7d5d-15c7-450d-813a-649d7e224415",
   "metadata": {},
   "outputs": [],
   "source": [
    "from tokenizer import tokenizer,vocab_size,token2str"
   ]
  },
  {
   "cell_type": "code",
   "execution_count": 2,
   "id": "319d9adb-b79e-4c7b-bd0c-18ec86e98586",
   "metadata": {},
   "outputs": [],
   "source": [
    "zh_str = '螽斯生僻字测试'\n",
    "tokens = tokenizer(zh_str,1.0)"
   ]
  },
  {
   "cell_type": "code",
   "execution_count": 3,
   "id": "7134d843-d5e3-4623-a496-507f7b6d9fd6",
   "metadata": {},
   "outputs": [
    {
     "name": "stdout",
     "output_type": "stream",
     "text": [
      "[-232, -158, -189, 33673, 43191, 9551, 22066, 40350]\n",
      "螽斯生僻字测试\n"
     ]
    }
   ],
   "source": [
    "print(tokens)\n",
    "print(token2str(tokens))"
   ]
  },
  {
   "cell_type": "code",
   "execution_count": 6,
   "id": "3c7056bc-eed4-47ea-b263-d8223659a38c",
   "metadata": {},
   "outputs": [
    {
     "name": "stdout",
     "output_type": "stream",
     "text": [
      "30\n",
      "20\n",
      "1.5\n",
      "大家好|，|欢迎|各位|小|主|继续|阅读|我|对于|小|主|们|作者|:|我是|小|主|。|今天|\n"
     ]
    }
   ],
   "source": [
    "# zh_str = \"另据影视大V在社交平台透露，《哪吒2》导演饺子目前已经正式闭关，专注于《哪吒3》的准备工作。可可豆动画的工作人员也向极目新闻记者表示，创作团队目前已经停止了所有的对外采访，“电影还在上映，希望大家把关注度都放在作品上。”\"\n",
    "tokens = tokenizer(zh_str,5.0)\n",
    "print(len(zh_str))\n",
    "print(len(tokens))\n",
    "print(len(zh_str)/len(tokens))\n",
    "for token in tokens:\n",
    "    print(token2str([token]),end='|')\n",
    "print()"
   ]
  },
  {
   "cell_type": "code",
   "execution_count": 5,
   "id": "1fe4a8e6-9239-47d9-85e2-e11da2856187",
   "metadata": {},
   "outputs": [
    {
     "name": "stdout",
     "output_type": "stream",
     "text": [
      "65546\n"
     ]
    }
   ],
   "source": [
    "print(vocab_size)"
   ]
  }
 ],
 "metadata": {
  "kernelspec": {
   "display_name": "Python 3 (ipykernel)",
   "language": "python",
   "name": "python3"
  },
  "language_info": {
   "codemirror_mode": {
    "name": "ipython",
    "version": 3
   },
   "file_extension": ".py",
   "mimetype": "text/x-python",
   "name": "python",
   "nbconvert_exporter": "python",
   "pygments_lexer": "ipython3",
   "version": "3.12.7"
  }
 },
 "nbformat": 4,
 "nbformat_minor": 5
}
