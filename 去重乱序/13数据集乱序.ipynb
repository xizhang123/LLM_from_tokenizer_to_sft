{
 "cells": [
  {
   "cell_type": "markdown",
   "id": "3a12cd49-ee1a-428f-9473-e05d03150487",
   "metadata": {},
   "source": [
    "# 数据集乱序操作"
   ]
  },
  {
   "cell_type": "code",
   "execution_count": 1,
   "id": "16be629d-b9ed-4759-9c6f-588404463730",
   "metadata": {},
   "outputs": [],
   "source": [
    "import numpy as np"
   ]
  },
  {
   "cell_type": "code",
   "execution_count": 2,
   "id": "be82cf31-32ec-4d55-bb67-a8031592a741",
   "metadata": {},
   "outputs": [],
   "source": [
    "with open('high_ff_final.txt','r') as f_in:\n",
    "    buckets = [open('bucket_'+str(i)+'.txt','w') for i in range(10)]\n",
    "    for line in f_in:\n",
    "        print(line,end=\"\",file=buckets[np.random.randint(10)])\n",
    "    for i in range(10):\n",
    "        buckets[i].close()\n",
    "        \n",
    "with open('high_ff_final_random.txt','w') as f_out:\n",
    "    for i in range(10):\n",
    "        with open('bucket_'+str(i)+'.txt','r') as f:\n",
    "            lines = list(f)\n",
    "            np.random.shuffle(lines)\n",
    "            for line in lines:\n",
    "                print(line,end=\"\",file=f_out)"
   ]
  }
 ],
 "metadata": {
  "kernelspec": {
   "display_name": "Python 3 (ipykernel)",
   "language": "python",
   "name": "python3"
  },
  "language_info": {
   "codemirror_mode": {
    "name": "ipython",
    "version": 3
   },
   "file_extension": ".py",
   "mimetype": "text/x-python",
   "name": "python",
   "nbconvert_exporter": "python",
   "pygments_lexer": "ipython3",
   "version": "3.12.7"
  }
 },
 "nbformat": 4,
 "nbformat_minor": 5
}
