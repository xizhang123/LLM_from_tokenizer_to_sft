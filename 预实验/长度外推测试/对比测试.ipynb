{
 "cells": [
  {
   "cell_type": "code",
   "execution_count": 1,
   "id": "1f7246f7-090b-4028-bb68-46ad62ec8552",
   "metadata": {},
   "outputs": [],
   "source": [
    "import torch\n",
    "import numpy as np\n",
    "from model import make_model\n",
    "from tools import Batch,CrossEntropyLossWithLabelSmoothing,get_std_opt,LossComputeAndStep,run_epoch,greedy_decode\n",
    "device = torch.device(\"cuda\" if torch.cuda.is_available() else \"cpu\")"
   ]
  },
  {
   "cell_type": "code",
   "execution_count": 2,
   "id": "d3a0480e-c5e3-4583-9b1f-2261ae8f0ae8",
   "metadata": {},
   "outputs": [
    {
     "data": {
      "text/plain": [
       "<All keys matched successfully>"
      ]
     },
     "execution_count": 2,
     "metadata": {},
     "output_type": "execute_result"
    }
   ],
   "source": [
    "#为了支持多模态，允许有多个输入，但目前没有多模态的需求，默认列表中只有一条序列或者有一些等长的序列\n",
    "#生成器的输入序列与输出序列类型完全一样，不支持多模态！\n",
    "#为了简便，默认0为填充，1为起始标记，剩余的为正常词汇，<UNK>、<END>算作正常词汇，可以在处理数据时自由定义\n",
    "#生成任务与翻译任务需要在输入序列中手动添加起始标记，使得模型能够输出更长的序列\n",
    "vocab_size = 12\n",
    "input_vocab_sizes = [vocab_size]\n",
    "output_vocab_size = vocab_size\n",
    "setting = {\n",
    "    #平衡资源消耗与效果\n",
    "    \"enable_affine\" : True,                   #加快训练速度(epoch少)，几乎不影响速度，可能影响稳定性\n",
    "    \"enable_layer_norm\" : True,               #增强模型稳定性，略微减慢速度\n",
    "    \"enable_talking_head\" : False,             #增强模型表达能力，严重减慢速度，消耗显存\n",
    "    \"enable_gated_linear_unit_in_projector\" : False,  #增强模型表达能力，输出词表很小时可用，规律十分明显的时候不要用\n",
    "    \"self_attention_block_size\" : 0,          #自注意力运算时的分块大小，可以显著降低显存消耗，提供额外的位置信息，但速度较慢\n",
    "    \"head_number\" : 8,    #启用talking_head时数量越多效果越好，但平方消耗，否则避免过大导致key_dim过小\n",
    "    \"glu_projector_multivalue\" : 64,          #enable_gated...启用后生效，平方复杂度\n",
    "    \"glu_projector_deep\" : 1,                 #enable_gated...启用后生效，实验用，不建议设置更大的数值\n",
    "    #模型类型选择\n",
    "    \"model_type\" : \"translator\",              #经典编码器-解码器架构，适合机器翻译\n",
    "    # \"model_type\" : \"classifier\",              #分类器，没有解码器，编码完总结到固定长度进行分类\n",
    "    # \"model_type\" : \"generator\",               #生成器，不停的预测下一个词，可以做大模型\n",
    "    # \"model_type\" : \"vit\",                     #简单的图像分类 \n",
    "    \"share_embeddings\" : False,             #是否进行词表共享，只对\"translator\"有效\n",
    "    \"summarizer_length\" : 4,                #分类器的总结长度，总结时没法分块，注意资源消耗\n",
    "    \"patch_size\" : 16,                      #图像分块的大小，只对vit有效\n",
    "    \"cross_attention_block_size\" : 0, #在显存不足的时候对query分段计算cross_attention，会减慢速度，逻辑上与不分块一样，只有\"translator\"可用\n",
    "    #参数规模设置\n",
    "    \"embedding_dim\" : 64,                   #词嵌入维度\n",
    "    \"key_dim\" : 64,                         #解决低秩问题\n",
    "    \"vocab_in_size_list\" : input_vocab_sizes,  #输入词表大小，支持多个输入列表，可以多模态\n",
    "    \"vocab_out_size\" : output_vocab_size,      #输出词表大小，共享词表时不支持多模态\n",
    "    \"feed_forward_dim\" : 256,               #注意力运算结束后用于混合不同head信息的前馈网络隐藏层维度\n",
    "    \"model_layers_number\" : 2,              #模型的层数，注意资源消耗\n",
    "    #位置信息添加方式选择\n",
    "    \"position_information_type\" : \"mask_position_information\",      #掩码位置信息，如果能训练好的话可以无限外推，但可能训练有困难\n",
    "    # \"position_information_type\" : \"no_position_information\",        #没有位置信息（分类器可能会用）\n",
    "    # \"position_information_type\" : \"sinusoidal_position_encoding\",   #余弦位置编码（经典，高效）\n",
    "    # \"position_information_type\" : \"rotary_position_encoding\",       #旋转位置编码（更好的表达相对位置）\n",
    "    # \"position_information_type\" : \"rotary_position_encoding_with_random_start\", #只使用相对信息，建议用掩码\n",
    "    #增加泛化能力\n",
    "    \"dropout_rate\" : 0.1 #训练时，注意力，前馈，talking都会随机丢弃计算结果，增加泛化能力\n",
    "}\n",
    "model1 = make_model(setting).to(device)\n",
    "model1.load_state_dict(torch.load('inv_64.weight'))\n",
    "setting[\"position_information_type\"] = \"sinusoidal_position_encoding\" \n",
    "model2 = make_model(setting).to(device)\n",
    "model2.load_state_dict(torch.load('sin_inv_64.weight'))\n",
    "setting[\"position_information_type\"] = \"rotary_position_encoding\" \n",
    "model3 = make_model(setting).to(device)\n",
    "model3.load_state_dict(torch.load('rot_inv_64.weight'))"
   ]
  },
  {
   "cell_type": "code",
   "execution_count": 3,
   "id": "c8613558-9fb3-4334-bb79-838b60a53d39",
   "metadata": {},
   "outputs": [],
   "source": [
    "#数据生成器\n",
    "def data_generator(batch_per_epoch,batch_size,sequence_length):\n",
    "    for i in range(batch_per_epoch):\n",
    "        #0 代表填充、1 代表起始、2~vocab_length-1 代表正常词汇，有vocab_length-2个，np.random.randint取不到第二个参数\n",
    "        np_data = np.random.randint(2,vocab_size,size=(batch_size,sequence_length+1))\n",
    "        np_data[...,0] = 1\n",
    "        input_sequence = torch.from_numpy(np_data[...,1:]).to(device)\n",
    "        input_sequences = [input_sequence]\n",
    "        np_data[...,1:] = np_data[...,1:][...,::-1]\n",
    "        target_sequences = torch.from_numpy(np_data).to(device)\n",
    "        yield Batch(input_sequences,target_sequences)"
   ]
  },
  {
   "cell_type": "code",
   "execution_count": 4,
   "id": "0340264d-cc04-478a-9893-8f5f69298c03",
   "metadata": {
    "editable": true,
    "slideshow": {
     "slide_type": ""
    },
    "tags": []
   },
   "outputs": [
    {
     "name": "stdout",
     "output_type": "stream",
     "text": [
      " 128     "
     ]
    }
   ],
   "source": [
    "model = model1\n",
    "model.eval()\n",
    "acc1 = []\n",
    "length1 = []\n",
    "for sequence_length in range(4,128+1,4):\n",
    "    length1 += [sequence_length]\n",
    "    print(\"\\r\",sequence_length,end=\" \"*5)\n",
    "    batch_size = 1000\n",
    "    with torch.no_grad():\n",
    "        #0 代表填充、1 代表起始、2~vocab_length-1 代表正常词汇，有vocab_length-2个，np.random.randint取不到第二个参数\n",
    "        check_data = np.random.randint(2,vocab_size,size=(batch_size,sequence_length+1))\n",
    "        check_data[...,0] = 1\n",
    "        input_sequence = torch.from_numpy(check_data[...,1:]).to(device)\n",
    "        input_sequences = [input_sequence]\n",
    "        result = greedy_decode(model,input_sequences,out_length=sequence_length)\n",
    "        check_data[...,1:] = check_data[...,1:][...,::-1]\n",
    "        answer = torch.from_numpy(check_data[...,1:]).to(device)\n",
    "        acc1 += [(result==answer).sum().data.cpu().numpy()/sequence_length/batch_size]"
   ]
  },
  {
   "cell_type": "code",
   "execution_count": 5,
   "id": "aac84d77-c206-49f8-adaf-71301bd95c22",
   "metadata": {},
   "outputs": [
    {
     "name": "stdout",
     "output_type": "stream",
     "text": [
      " 128     "
     ]
    }
   ],
   "source": [
    "model = model2\n",
    "model.eval()\n",
    "acc2 = []\n",
    "length2 = []\n",
    "for sequence_length in range(4,128+1,4):\n",
    "    length2 += [sequence_length]\n",
    "    print(\"\\r\",sequence_length,end=\" \"*5)\n",
    "    batch_size = 1000\n",
    "    with torch.no_grad():\n",
    "        #0 代表填充、1 代表起始、2~vocab_length-1 代表正常词汇，有vocab_length-2个，np.random.randint取不到第二个参数\n",
    "        check_data = np.random.randint(2,vocab_size,size=(batch_size,sequence_length+1))\n",
    "        check_data[...,0] = 1\n",
    "        input_sequence = torch.from_numpy(check_data[...,1:]).to(device)\n",
    "        input_sequences = [input_sequence]\n",
    "        result = greedy_decode(model,input_sequences,out_length=sequence_length)\n",
    "        check_data[...,1:] = check_data[...,1:][...,::-1]\n",
    "        answer = torch.from_numpy(check_data[...,1:]).to(device)\n",
    "        acc2 += [(result==answer).sum().data.cpu().numpy()/sequence_length/batch_size]"
   ]
  },
  {
   "cell_type": "code",
   "execution_count": 6,
   "id": "4eb6ef3f-40df-4e22-99fd-9edf85de3651",
   "metadata": {},
   "outputs": [
    {
     "name": "stdout",
     "output_type": "stream",
     "text": [
      " 128     "
     ]
    }
   ],
   "source": [
    "model = model3\n",
    "model.eval()\n",
    "acc3 = []\n",
    "length3 = []\n",
    "for sequence_length in range(4,128+1,4):\n",
    "    length3 += [sequence_length]\n",
    "    print(\"\\r\",sequence_length,end=\" \"*5)\n",
    "    batch_size = 1000\n",
    "    with torch.no_grad():\n",
    "        #0 代表填充、1 代表起始、2~vocab_length-1 代表正常词汇，有vocab_length-2个，np.random.randint取不到第二个参数\n",
    "        check_data = np.random.randint(2,vocab_size,size=(batch_size,sequence_length+1))\n",
    "        check_data[...,0] = 1\n",
    "        input_sequence = torch.from_numpy(check_data[...,1:]).to(device)\n",
    "        input_sequences = [input_sequence]\n",
    "        result = greedy_decode(model,input_sequences,out_length=sequence_length)\n",
    "        check_data[...,1:] = check_data[...,1:][...,::-1]\n",
    "        answer = torch.from_numpy(check_data[...,1:]).to(device)\n",
    "        acc3 += [(result==answer).sum().data.cpu().numpy()/sequence_length/batch_size]"
   ]
  },
  {
   "cell_type": "code",
   "execution_count": 7,
   "id": "3b879c15-90d4-4ae6-848a-631143d18f1f",
   "metadata": {},
   "outputs": [],
   "source": [
    "from matplotlib import pyplot as plt\n",
    "%matplotlib inline"
   ]
  },
  {
   "cell_type": "code",
   "execution_count": 8,
   "id": "d10fd6f6-4986-4aff-9e5b-866345ec47f7",
   "metadata": {},
   "outputs": [
    {
     "data": {
      "image/png": "[encoded data removed]",
      "text/plain": [
       "<Figure size 640x480 with 1 Axes>"
      ]
     },
     "metadata": {},
     "output_type": "display_data"
    }
   ],
   "source": [
    "plt.ylim(0,1)\n",
    "plt.xlim(4,128)\n",
    "plt.plot(length1,acc1)\n",
    "plt.plot(length2,acc2)\n",
    "plt.plot(length3,acc3)\n",
    "plt.show()"
   ]
  },
  {
   "cell_type": "code",
   "execution_count": 9,
   "id": "e14aeddd-e92b-4a25-8180-302551112196",
   "metadata": {},
   "outputs": [],
   "source": [
    "# for l,a in zip(length1,acc1):\n",
    "#     print(l,a)"
   ]
  },
  {
   "cell_type": "code",
   "execution_count": 10,
   "id": "116f2c1d-a7ac-47c0-8dd2-4b4dfe294c3a",
   "metadata": {},
   "outputs": [],
   "source": [
    "# for l,a in zip(length2,acc2):\n",
    "#     print(l,a)"
   ]
  },
  {
   "cell_type": "code",
   "execution_count": 11,
   "id": "5fb7595b-083c-451e-bbfc-7ab340bf430f",
   "metadata": {},
   "outputs": [],
   "source": [
    "np.save('masked.npy',[length1,acc1])\n",
    "np.save('sin.npy',[length2,acc2])\n",
    "np.save('rot.npy',[length3,acc3])"
   ]
  }
 ],
 "metadata": {
  "kernelspec": {
   "display_name": "Python 3 (ipykernel)",
   "language": "python",
   "name": "python3"
  },
  "language_info": {
   "codemirror_mode": {
    "name": "ipython",
    "version": 3
   },
   "file_extension": ".py",
   "mimetype": "text/x-python",
   "name": "python",
   "nbconvert_exporter": "python",
   "pygments_lexer": "ipython3",
   "version": "3.12.7"
  }
 },
 "nbformat": 4,
 "nbformat_minor": 5
}
